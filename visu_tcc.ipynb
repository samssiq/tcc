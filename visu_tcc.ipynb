{
  "cells": [
    {
      "cell_type": "markdown",
      "metadata": {
        "colab_type": "text",
        "id": "view-in-github"
      },
      "source": [
        "<a href=\"https://colab.research.google.com/github/samssiq/tcc/blob/main/visu_tcc.ipynb\" target=\"_parent\"><img src=\"https://colab.research.google.com/assets/colab-badge.svg\" alt=\"Open In Colab\"/></a>"
      ]
    },
    {
      "cell_type": "markdown",
      "metadata": {
        "id": "zE4XhFXFgU4s"
      },
      "source": []
    },
    {
      "cell_type": "markdown",
      "metadata": {
        "id": "juDxMl3qgWGC"
      },
      "source": [
        "# TCC - Experimentos com o klue.\n",
        "\n"
      ]
    },
    {
      "cell_type": "markdown",
      "metadata": {
        "id": "bYyg3_M8g2ZV"
      },
      "source": [
        "## 1º Cenário:\n",
        "#### Conseguir alocar todos os pods e sobrar recursos\n",
        "\n",
        "No arquivo ```infrastructure_description.json```, foram determinados os seguintes recursos:\n"
      ]
    },
    {
      "cell_type": "markdown",
      "metadata": {
        "id": "UrK3xgHrnXHm"
      },
      "source": [
        "```\n",
        "\"status\": {\n",
        "                \"capacity\": {\n",
        "                    \"cpu\": \"2\",\n",
        "                    \"memory\": \"4Gi\",\n",
        "                    \"pods\": \"100\",\n",
        "                    \"ephemeral-storage\": \"100Gi\"\n",
        "                },\n",
        "                \"allocatable\": {\n",
        "                    \"cpu\": \"2\",\n",
        "                    \"memory\": \"4Gi\",\n",
        "                    \"pods\": \"100\",\n",
        "                    \"ephemeral-storage\": \"100Gi\"\n",
        "\n",
        "````"
      ]
    },
    {
      "cell_type": "markdown",
      "metadata": {
        "id": "3xzs2HD1itg7"
      },
      "source": [
        "Enquanto isso, no arquivo ```workload_description.json```, os requests necessários para os containeres foram:"
      ]
    },
    {
      "cell_type": "markdown",
      "metadata": {
        "id": "iN2xR8o4njcf"
      },
      "source": [
        "\n",
        "\n",
        "```\n",
        "\"containers\": [\n",
        "                  {\n",
        "                    \"name\": \"fake-container\",\n",
        "                    \"image\": \"fake-image\",\n",
        "                    \"resources\": {\n",
        "                      \"requests\": {\n",
        "                        \"cpu\": \"100m\",\n",
        "                        \"memory\": \"64Mi\"\n",
        "```\n",
        "\n"
      ]
    },
    {
      "cell_type": "markdown",
      "metadata": {
        "id": "Su8j7TQYi0Hf"
      },
      "source": [
        "A emulação a ser rodada no ```workload_description.json``` possui as seguintes configurações:"
      ]
    },
    {
      "cell_type": "markdown",
      "metadata": {
        "id": "ys6N6UjXnp9o"
      },
      "source": [
        "\n",
        "\n",
        "```\n",
        "\"emulation\": [\n",
        "    {\n",
        "        \"timestamp\": 300,\n",
        "        \"applied_objects\": {},\n",
        "        \"deleted_objects\": [],\n",
        "        \"scaled_replicasets\": [\n",
        "            {\n",
        "                \"name\": \"experiment-tcc\",\n",
        "                \"namespace\": \"experiment-tcc\",\n",
        "                \"pods\": 15,\n",
        "                \"kind\": \"deployment\"\n",
        "            },\n",
        "            {\n",
        "              \"timestamp\": 600,\n",
        "              \"applied_objects\": {},\n",
        "              \"deleted_objects\": [\n",
        "                {\n",
        "                  \"name\": \"experiment-tcc\",\n",
        "                 \"namespace\": \"experiment-tcc\"\n",
        "                }\n",
        "              ],\n",
        "              \"scaled_replicasets\": []\n",
        "```\n",
        "\n"
      ]
    },
    {
      "cell_type": "markdown",
      "metadata": {
        "id": "77L3ur2Vi71j"
      },
      "source": [
        "O esperado é rodar a emulação por 10 minutos e verificar a quantidade de *pending pods*, o QoS escolhido. Idealmente, após a emulação, não deve existir nenhum pod com esse estado, pois há recursos de sobra para atender as demandas dos pods."
      ]
    },
    {
      "cell_type": "markdown",
      "metadata": {
        "id": "mFxFrvtSjDWZ"
      },
      "source": [
        "### Resultados:\n",
        "Após a emulação configurada como mostrado acima, os resultados não foram satisfatórios e fugiram do esperado. Investigações estão sendo feitas para entender o que causou os seguintes comportamentos:"
      ]
    },
    {
      "cell_type": "code",
      "execution_count": 5,
      "metadata": {
        "colab": {
          "base_uri": "https://localhost:8080/",
          "height": 503
        },
        "id": "pNT_Ky0-nzYZ",
        "outputId": "af1fecbb-f82d-40bd-e8ea-f306ee031594"
      },
      "outputs": [
        {
          "name": "stdout",
          "output_type": "stream",
          "text": [
            "  Preparing metadata (setup.py) ... \u001b[?25l\u001b[?25hdone\n"
          ]
        },
        {
          "data": {
            "application/vnd.google.colaboratory.intrinsic+json": {
              "summary": "{\n  \"name\": \"df\",\n  \"rows\": 2145,\n  \"fields\": [\n    {\n      \"column\": \"name\",\n      \"properties\": {\n        \"dtype\": \"category\",\n        \"num_unique_values\": 1,\n        \"samples\": [\n          \"kube_pod_status_phase\"\n        ],\n        \"semantic_type\": \"\",\n        \"description\": \"\"\n      }\n    },\n    {\n      \"column\": \"timestamp\",\n      \"properties\": {\n        \"dtype\": \"number\",\n        \"std\": 112,\n        \"min\": 1753847091,\n        \"max\": 1753847451,\n        \"num_unique_values\": 13,\n        \"samples\": [\n          1753847421\n        ],\n        \"semantic_type\": \"\",\n        \"description\": \"\"\n      }\n    },\n    {\n      \"column\": \"value\",\n      \"properties\": {\n        \"dtype\": \"number\",\n        \"std\": 0,\n        \"min\": 0,\n        \"max\": 1,\n        \"num_unique_values\": 2,\n        \"samples\": [\n          1\n        ],\n        \"semantic_type\": \"\",\n        \"description\": \"\"\n      }\n    },\n    {\n      \"column\": \"__name__\",\n      \"properties\": {\n        \"dtype\": \"category\",\n        \"num_unique_values\": 1,\n        \"samples\": [\n          \"kube_pod_status_phase\"\n        ],\n        \"semantic_type\": \"\",\n        \"description\": \"\"\n      }\n    },\n    {\n      \"column\": \"container\",\n      \"properties\": {\n        \"dtype\": \"category\",\n        \"num_unique_values\": 1,\n        \"samples\": [\n          \"kube-rbac-proxy-main\"\n        ],\n        \"semantic_type\": \"\",\n        \"description\": \"\"\n      }\n    },\n    {\n      \"column\": \"instance\",\n      \"properties\": {\n        \"dtype\": \"category\",\n        \"num_unique_values\": 1,\n        \"samples\": [\n          \"10.244.0.5:8443\"\n        ],\n        \"semantic_type\": \"\",\n        \"description\": \"\"\n      }\n    },\n    {\n      \"column\": \"job\",\n      \"properties\": {\n        \"dtype\": \"category\",\n        \"num_unique_values\": 1,\n        \"samples\": [\n          \"kube-state-metrics\"\n        ],\n        \"semantic_type\": \"\",\n        \"description\": \"\"\n      }\n    },\n    {\n      \"column\": \"namespace\",\n      \"properties\": {\n        \"dtype\": \"category\",\n        \"num_unique_values\": 3,\n        \"samples\": [\n          \"experiment-tcc\"\n        ],\n        \"semantic_type\": \"\",\n        \"description\": \"\"\n      }\n    },\n    {\n      \"column\": \"phase\",\n      \"properties\": {\n        \"dtype\": \"category\",\n        \"num_unique_values\": 5,\n        \"samples\": [\n          \"Pending\"\n        ],\n        \"semantic_type\": \"\",\n        \"description\": \"\"\n      }\n    },\n    {\n      \"column\": \"pod\",\n      \"properties\": {\n        \"dtype\": \"category\",\n        \"num_unique_values\": 33,\n        \"samples\": [\n          \"prometheus-k8s-1\"\n        ],\n        \"semantic_type\": \"\",\n        \"description\": \"\"\n      }\n    },\n    {\n      \"column\": \"uid\",\n      \"properties\": {\n        \"dtype\": \"category\",\n        \"num_unique_values\": 33,\n        \"samples\": [\n          \"92ed4e41-3a6d-40b8-9163-f07664562a9b\"\n        ],\n        \"semantic_type\": \"\",\n        \"description\": \"\"\n      }\n    }\n  ]\n}",
              "type": "dataframe",
              "variable_name": "df"
            },
            "text/html": [
              "\n",
              "  <div id=\"df-b19c09f2-2572-45fb-95d2-087154b6bd62\" class=\"colab-df-container\">\n",
              "    <div>\n",
              "<style scoped>\n",
              "    .dataframe tbody tr th:only-of-type {\n",
              "        vertical-align: middle;\n",
              "    }\n",
              "\n",
              "    .dataframe tbody tr th {\n",
              "        vertical-align: top;\n",
              "    }\n",
              "\n",
              "    .dataframe thead th {\n",
              "        text-align: right;\n",
              "    }\n",
              "</style>\n",
              "<table border=\"1\" class=\"dataframe\">\n",
              "  <thead>\n",
              "    <tr style=\"text-align: right;\">\n",
              "      <th></th>\n",
              "      <th>name</th>\n",
              "      <th>timestamp</th>\n",
              "      <th>value</th>\n",
              "      <th>__name__</th>\n",
              "      <th>container</th>\n",
              "      <th>instance</th>\n",
              "      <th>job</th>\n",
              "      <th>namespace</th>\n",
              "      <th>phase</th>\n",
              "      <th>pod</th>\n",
              "      <th>uid</th>\n",
              "    </tr>\n",
              "  </thead>\n",
              "  <tbody>\n",
              "    <tr>\n",
              "      <th>0</th>\n",
              "      <td>kube_pod_status_phase</td>\n",
              "      <td>1753847091</td>\n",
              "      <td>0</td>\n",
              "      <td>kube_pod_status_phase</td>\n",
              "      <td>kube-rbac-proxy-main</td>\n",
              "      <td>10.244.0.5:8443</td>\n",
              "      <td>kube-state-metrics</td>\n",
              "      <td>experiment-tcc</td>\n",
              "      <td>Failed</td>\n",
              "      <td>otel-o11y-ob3-af-beta-opentelemetry-collector-...</td>\n",
              "      <td>42148726-89f7-40b4-94b8-a1c4a18bcc9d</td>\n",
              "    </tr>\n",
              "    <tr>\n",
              "      <th>1</th>\n",
              "      <td>kube_pod_status_phase</td>\n",
              "      <td>1753847121</td>\n",
              "      <td>0</td>\n",
              "      <td>kube_pod_status_phase</td>\n",
              "      <td>kube-rbac-proxy-main</td>\n",
              "      <td>10.244.0.5:8443</td>\n",
              "      <td>kube-state-metrics</td>\n",
              "      <td>experiment-tcc</td>\n",
              "      <td>Failed</td>\n",
              "      <td>otel-o11y-ob3-af-beta-opentelemetry-collector-...</td>\n",
              "      <td>42148726-89f7-40b4-94b8-a1c4a18bcc9d</td>\n",
              "    </tr>\n",
              "    <tr>\n",
              "      <th>2</th>\n",
              "      <td>kube_pod_status_phase</td>\n",
              "      <td>1753847151</td>\n",
              "      <td>0</td>\n",
              "      <td>kube_pod_status_phase</td>\n",
              "      <td>kube-rbac-proxy-main</td>\n",
              "      <td>10.244.0.5:8443</td>\n",
              "      <td>kube-state-metrics</td>\n",
              "      <td>experiment-tcc</td>\n",
              "      <td>Failed</td>\n",
              "      <td>otel-o11y-ob3-af-beta-opentelemetry-collector-...</td>\n",
              "      <td>42148726-89f7-40b4-94b8-a1c4a18bcc9d</td>\n",
              "    </tr>\n",
              "    <tr>\n",
              "      <th>3</th>\n",
              "      <td>kube_pod_status_phase</td>\n",
              "      <td>1753847181</td>\n",
              "      <td>0</td>\n",
              "      <td>kube_pod_status_phase</td>\n",
              "      <td>kube-rbac-proxy-main</td>\n",
              "      <td>10.244.0.5:8443</td>\n",
              "      <td>kube-state-metrics</td>\n",
              "      <td>experiment-tcc</td>\n",
              "      <td>Failed</td>\n",
              "      <td>otel-o11y-ob3-af-beta-opentelemetry-collector-...</td>\n",
              "      <td>42148726-89f7-40b4-94b8-a1c4a18bcc9d</td>\n",
              "    </tr>\n",
              "    <tr>\n",
              "      <th>4</th>\n",
              "      <td>kube_pod_status_phase</td>\n",
              "      <td>1753847211</td>\n",
              "      <td>0</td>\n",
              "      <td>kube_pod_status_phase</td>\n",
              "      <td>kube-rbac-proxy-main</td>\n",
              "      <td>10.244.0.5:8443</td>\n",
              "      <td>kube-state-metrics</td>\n",
              "      <td>experiment-tcc</td>\n",
              "      <td>Failed</td>\n",
              "      <td>otel-o11y-ob3-af-beta-opentelemetry-collector-...</td>\n",
              "      <td>42148726-89f7-40b4-94b8-a1c4a18bcc9d</td>\n",
              "    </tr>\n",
              "  </tbody>\n",
              "</table>\n",
              "</div>\n",
              "    <div class=\"colab-df-buttons\">\n",
              "\n",
              "  <div class=\"colab-df-container\">\n",
              "    <button class=\"colab-df-convert\" onclick=\"convertToInteractive('df-b19c09f2-2572-45fb-95d2-087154b6bd62')\"\n",
              "            title=\"Convert this dataframe to an interactive table.\"\n",
              "            style=\"display:none;\">\n",
              "\n",
              "  <svg xmlns=\"http://www.w3.org/2000/svg\" height=\"24px\" viewBox=\"0 -960 960 960\">\n",
              "    <path d=\"M120-120v-720h720v720H120Zm60-500h600v-160H180v160Zm220 220h160v-160H400v160Zm0 220h160v-160H400v160ZM180-400h160v-160H180v160Zm440 0h160v-160H620v160ZM180-180h160v-160H180v160Zm440 0h160v-160H620v160Z\"/>\n",
              "  </svg>\n",
              "    </button>\n",
              "\n",
              "  <style>\n",
              "    .colab-df-container {\n",
              "      display:flex;\n",
              "      gap: 12px;\n",
              "    }\n",
              "\n",
              "    .colab-df-convert {\n",
              "      background-color: #E8F0FE;\n",
              "      border: none;\n",
              "      border-radius: 50%;\n",
              "      cursor: pointer;\n",
              "      display: none;\n",
              "      fill: #1967D2;\n",
              "      height: 32px;\n",
              "      padding: 0 0 0 0;\n",
              "      width: 32px;\n",
              "    }\n",
              "\n",
              "    .colab-df-convert:hover {\n",
              "      background-color: #E2EBFA;\n",
              "      box-shadow: 0px 1px 2px rgba(60, 64, 67, 0.3), 0px 1px 3px 1px rgba(60, 64, 67, 0.15);\n",
              "      fill: #174EA6;\n",
              "    }\n",
              "\n",
              "    .colab-df-buttons div {\n",
              "      margin-bottom: 4px;\n",
              "    }\n",
              "\n",
              "    [theme=dark] .colab-df-convert {\n",
              "      background-color: #3B4455;\n",
              "      fill: #D2E3FC;\n",
              "    }\n",
              "\n",
              "    [theme=dark] .colab-df-convert:hover {\n",
              "      background-color: #434B5C;\n",
              "      box-shadow: 0px 1px 3px 1px rgba(0, 0, 0, 0.15);\n",
              "      filter: drop-shadow(0px 1px 2px rgba(0, 0, 0, 0.3));\n",
              "      fill: #FFFFFF;\n",
              "    }\n",
              "  </style>\n",
              "\n",
              "    <script>\n",
              "      const buttonEl =\n",
              "        document.querySelector('#df-b19c09f2-2572-45fb-95d2-087154b6bd62 button.colab-df-convert');\n",
              "      buttonEl.style.display =\n",
              "        google.colab.kernel.accessAllowed ? 'block' : 'none';\n",
              "\n",
              "      async function convertToInteractive(key) {\n",
              "        const element = document.querySelector('#df-b19c09f2-2572-45fb-95d2-087154b6bd62');\n",
              "        const dataTable =\n",
              "          await google.colab.kernel.invokeFunction('convertToInteractive',\n",
              "                                                    [key], {});\n",
              "        if (!dataTable) return;\n",
              "\n",
              "        const docLinkHtml = 'Like what you see? Visit the ' +\n",
              "          '<a target=\"_blank\" href=https://colab.research.google.com/notebooks/data_table.ipynb>data table notebook</a>'\n",
              "          + ' to learn more about interactive tables.';\n",
              "        element.innerHTML = '';\n",
              "        dataTable['output_type'] = 'display_data';\n",
              "        await google.colab.output.renderOutput(dataTable, element);\n",
              "        const docLink = document.createElement('div');\n",
              "        docLink.innerHTML = docLinkHtml;\n",
              "        element.appendChild(docLink);\n",
              "      }\n",
              "    </script>\n",
              "  </div>\n",
              "\n",
              "\n",
              "    <div id=\"df-3a99995a-0a28-411e-b21d-63d420bd762e\">\n",
              "      <button class=\"colab-df-quickchart\" onclick=\"quickchart('df-3a99995a-0a28-411e-b21d-63d420bd762e')\"\n",
              "                title=\"Suggest charts\"\n",
              "                style=\"display:none;\">\n",
              "\n",
              "<svg xmlns=\"http://www.w3.org/2000/svg\" height=\"24px\"viewBox=\"0 0 24 24\"\n",
              "     width=\"24px\">\n",
              "    <g>\n",
              "        <path d=\"M19 3H5c-1.1 0-2 .9-2 2v14c0 1.1.9 2 2 2h14c1.1 0 2-.9 2-2V5c0-1.1-.9-2-2-2zM9 17H7v-7h2v7zm4 0h-2V7h2v10zm4 0h-2v-4h2v4z\"/>\n",
              "    </g>\n",
              "</svg>\n",
              "      </button>\n",
              "\n",
              "<style>\n",
              "  .colab-df-quickchart {\n",
              "      --bg-color: #E8F0FE;\n",
              "      --fill-color: #1967D2;\n",
              "      --hover-bg-color: #E2EBFA;\n",
              "      --hover-fill-color: #174EA6;\n",
              "      --disabled-fill-color: #AAA;\n",
              "      --disabled-bg-color: #DDD;\n",
              "  }\n",
              "\n",
              "  [theme=dark] .colab-df-quickchart {\n",
              "      --bg-color: #3B4455;\n",
              "      --fill-color: #D2E3FC;\n",
              "      --hover-bg-color: #434B5C;\n",
              "      --hover-fill-color: #FFFFFF;\n",
              "      --disabled-bg-color: #3B4455;\n",
              "      --disabled-fill-color: #666;\n",
              "  }\n",
              "\n",
              "  .colab-df-quickchart {\n",
              "    background-color: var(--bg-color);\n",
              "    border: none;\n",
              "    border-radius: 50%;\n",
              "    cursor: pointer;\n",
              "    display: none;\n",
              "    fill: var(--fill-color);\n",
              "    height: 32px;\n",
              "    padding: 0;\n",
              "    width: 32px;\n",
              "  }\n",
              "\n",
              "  .colab-df-quickchart:hover {\n",
              "    background-color: var(--hover-bg-color);\n",
              "    box-shadow: 0 1px 2px rgba(60, 64, 67, 0.3), 0 1px 3px 1px rgba(60, 64, 67, 0.15);\n",
              "    fill: var(--button-hover-fill-color);\n",
              "  }\n",
              "\n",
              "  .colab-df-quickchart-complete:disabled,\n",
              "  .colab-df-quickchart-complete:disabled:hover {\n",
              "    background-color: var(--disabled-bg-color);\n",
              "    fill: var(--disabled-fill-color);\n",
              "    box-shadow: none;\n",
              "  }\n",
              "\n",
              "  .colab-df-spinner {\n",
              "    border: 2px solid var(--fill-color);\n",
              "    border-color: transparent;\n",
              "    border-bottom-color: var(--fill-color);\n",
              "    animation:\n",
              "      spin 1s steps(1) infinite;\n",
              "  }\n",
              "\n",
              "  @keyframes spin {\n",
              "    0% {\n",
              "      border-color: transparent;\n",
              "      border-bottom-color: var(--fill-color);\n",
              "      border-left-color: var(--fill-color);\n",
              "    }\n",
              "    20% {\n",
              "      border-color: transparent;\n",
              "      border-left-color: var(--fill-color);\n",
              "      border-top-color: var(--fill-color);\n",
              "    }\n",
              "    30% {\n",
              "      border-color: transparent;\n",
              "      border-left-color: var(--fill-color);\n",
              "      border-top-color: var(--fill-color);\n",
              "      border-right-color: var(--fill-color);\n",
              "    }\n",
              "    40% {\n",
              "      border-color: transparent;\n",
              "      border-right-color: var(--fill-color);\n",
              "      border-top-color: var(--fill-color);\n",
              "    }\n",
              "    60% {\n",
              "      border-color: transparent;\n",
              "      border-right-color: var(--fill-color);\n",
              "    }\n",
              "    80% {\n",
              "      border-color: transparent;\n",
              "      border-right-color: var(--fill-color);\n",
              "      border-bottom-color: var(--fill-color);\n",
              "    }\n",
              "    90% {\n",
              "      border-color: transparent;\n",
              "      border-bottom-color: var(--fill-color);\n",
              "    }\n",
              "  }\n",
              "</style>\n",
              "\n",
              "      <script>\n",
              "        async function quickchart(key) {\n",
              "          const quickchartButtonEl =\n",
              "            document.querySelector('#' + key + ' button');\n",
              "          quickchartButtonEl.disabled = true;  // To prevent multiple clicks.\n",
              "          quickchartButtonEl.classList.add('colab-df-spinner');\n",
              "          try {\n",
              "            const charts = await google.colab.kernel.invokeFunction(\n",
              "                'suggestCharts', [key], {});\n",
              "          } catch (error) {\n",
              "            console.error('Error during call to suggestCharts:', error);\n",
              "          }\n",
              "          quickchartButtonEl.classList.remove('colab-df-spinner');\n",
              "          quickchartButtonEl.classList.add('colab-df-quickchart-complete');\n",
              "        }\n",
              "        (() => {\n",
              "          let quickchartButtonEl =\n",
              "            document.querySelector('#df-3a99995a-0a28-411e-b21d-63d420bd762e button');\n",
              "          quickchartButtonEl.style.display =\n",
              "            google.colab.kernel.accessAllowed ? 'block' : 'none';\n",
              "        })();\n",
              "      </script>\n",
              "    </div>\n",
              "\n",
              "    </div>\n",
              "  </div>\n"
            ],
            "text/plain": [
              "                    name   timestamp  value               __name__  \\\n",
              "0  kube_pod_status_phase  1753847091      0  kube_pod_status_phase   \n",
              "1  kube_pod_status_phase  1753847121      0  kube_pod_status_phase   \n",
              "2  kube_pod_status_phase  1753847151      0  kube_pod_status_phase   \n",
              "3  kube_pod_status_phase  1753847181      0  kube_pod_status_phase   \n",
              "4  kube_pod_status_phase  1753847211      0  kube_pod_status_phase   \n",
              "\n",
              "              container         instance                 job       namespace  \\\n",
              "0  kube-rbac-proxy-main  10.244.0.5:8443  kube-state-metrics  experiment-tcc   \n",
              "1  kube-rbac-proxy-main  10.244.0.5:8443  kube-state-metrics  experiment-tcc   \n",
              "2  kube-rbac-proxy-main  10.244.0.5:8443  kube-state-metrics  experiment-tcc   \n",
              "3  kube-rbac-proxy-main  10.244.0.5:8443  kube-state-metrics  experiment-tcc   \n",
              "4  kube-rbac-proxy-main  10.244.0.5:8443  kube-state-metrics  experiment-tcc   \n",
              "\n",
              "    phase                                                pod  \\\n",
              "0  Failed  otel-o11y-ob3-af-beta-opentelemetry-collector-...   \n",
              "1  Failed  otel-o11y-ob3-af-beta-opentelemetry-collector-...   \n",
              "2  Failed  otel-o11y-ob3-af-beta-opentelemetry-collector-...   \n",
              "3  Failed  otel-o11y-ob3-af-beta-opentelemetry-collector-...   \n",
              "4  Failed  otel-o11y-ob3-af-beta-opentelemetry-collector-...   \n",
              "\n",
              "                                    uid  \n",
              "0  42148726-89f7-40b4-94b8-a1c4a18bcc9d  \n",
              "1  42148726-89f7-40b4-94b8-a1c4a18bcc9d  \n",
              "2  42148726-89f7-40b4-94b8-a1c4a18bcc9d  \n",
              "3  42148726-89f7-40b4-94b8-a1c4a18bcc9d  \n",
              "4  42148726-89f7-40b4-94b8-a1c4a18bcc9d  "
            ]
          },
          "execution_count": 5,
          "metadata": {},
          "output_type": "execute_result"
        }
      ],
      "source": [
        "!pip install -q git+https://github.com/maxmcz/learntools.git\n",
        "\n",
        "import pandas as pd\n",
        "import matplotlib.pyplot as plt\n",
        "import seaborn as sns\n",
        "import os\n",
        "\n",
        "pd.plotting.register_matplotlib_converters()\n",
        "%matplotlib inline\n",
        "\n",
        "df = pd.read_csv('/content/cen1_kube_pod_status_phase.csv')\n",
        "\n",
        "df.head()"
      ]
    },
    {
      "cell_type": "code",
      "execution_count": 8,
      "metadata": {
        "id": "a9wpFvf5Zhct"
      },
      "outputs": [],
      "source": [
        "filtered_df = df[df['value'] == 1] ## Vai filtrar todas as linhas com o valor 1, ou seja o estado real do pod"
      ]
    },
    {
      "cell_type": "code",
      "execution_count": 9,
      "metadata": {
        "colab": {
          "base_uri": "https://localhost:8080/",
          "height": 430
        },
        "id": "-6vxtDCm0n96",
        "outputId": "f16e5586-cd44-4181-e855-78bf6ad717e8"
      },
      "outputs": [
        {
          "data": {
            "image/png": "[encoded data removed]",
            "text/plain": [
              "<Figure size 640x480 with 1 Axes>"
            ]
          },
          "metadata": {},
          "output_type": "display_data"
        }
      ],
      "source": [
        "# @title phase\n",
        "\n",
        "from matplotlib import pyplot as plt\n",
        "import seaborn as sns\n",
        "filtered_df.groupby('phase').size().plot(kind='barh', color=sns.palettes.mpl_palette('Dark2'))\n",
        "plt.gca().spines[['top', 'right',]].set_visible(False)"
      ]
    },
    {
      "cell_type": "code",
      "execution_count": 14,
      "metadata": {
        "id": "bND9sBEFqD6C"
      },
      "outputs": [],
      "source": [
        "cen1_filepath = \"cen1_kube_pod_status_phase.csv\"\n",
        "\n",
        "cn1_data = filtered_df\n",
        "#pd.read_csv(cen1_filepath, index_col=\"name\", parse_dates=True)"
      ]
    },
    {
      "cell_type": "code",
      "execution_count": 15,
      "metadata": {
        "colab": {
          "base_uri": "https://localhost:8080/",
          "height": 482
        },
        "id": "PGyJmaEv6Znc",
        "outputId": "d1ae89c6-3583-4349-d368-5fbe0fbc6383"
      },
      "outputs": [
        {
          "data": {
            "text/plain": [
              "<Axes: xlabel='phase', ylabel='timestamp'>"
            ]
          },
          "execution_count": 15,
          "metadata": {},
          "output_type": "execute_result"
        },
        {
          "data": {
            "image/png": "[encoded data removed]",
            "text/plain": [
              "<Figure size 640x480 with 1 Axes>"
            ]
          },
          "metadata": {},
          "output_type": "display_data"
        }
      ],
      "source": [
        "sns.scatterplot(x=cn1_data['phase'], y=cn1_data['timestamp'])"
      ]
    },
    {
      "cell_type": "markdown",
      "metadata": {
        "id": "tHCHRDlN_aDY"
      },
      "source": [
        "# 2º Cenário:\n",
        "#### Conseguir alocar todos os pods e não sobrar recursos"
      ]
    }
  ],
  "metadata": {
    "colab": {
      "authorship_tag": "ABX9TyP0rSRqzth3PxqO6razk3zS",
      "include_colab_link": true,
      "provenance": []
    },
    "kernelspec": {
      "display_name": "Python 3",
      "name": "python3"
    },
    "language_info": {
      "name": "python"
    }
  },
  "nbformat": 4,
  "nbformat_minor": 0
}
